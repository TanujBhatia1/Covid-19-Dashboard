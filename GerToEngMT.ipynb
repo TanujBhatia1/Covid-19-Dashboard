{
  "cells": [
    {
      "cell_type": "markdown",
      "metadata": {
        "id": "view-in-github",
        "colab_type": "text"
      },
      "source": [
        "<a href=\"https://colab.research.google.com/github/TanujBhatia1/Covid-19-Dashboard/blob/main/GerToEngMT.ipynb\" target=\"_parent\"><img src=\"https://colab.research.google.com/assets/colab-badge.svg\" alt=\"Open In Colab\"/></a>"
      ]
    },
    {
      "cell_type": "code",
      "execution_count": 1,
      "metadata": {
        "id": "hB3X4encnFLh"
      },
      "outputs": [],
      "source": [
        "import string\n",
        "import re\n",
        "from numpy import array, argmax, random, take\n",
        "import pandas as pd\n",
        "import numpy as np\n",
        "from keras.models import Sequential\n",
        "from keras.layers import Dense, LSTM, Embedding, Bidirectional, RepeatVector, TimeDistributed\n",
        "from keras.preprocessing.text import Tokenizer\n",
        "from keras.callbacks import ModelCheckpoint\n",
        "from keras.preprocessing.sequence import pad_sequences\n",
        "from keras.models import load_model\n",
        "from keras import optimizers\n",
        "import matplotlib.pyplot as plt\n",
        "%matplotlib inline\n",
        "pd.set_option('display.max_colwidth', 200)"
      ]
    },
    {
      "cell_type": "code",
      "execution_count": 2,
      "metadata": {
        "id": "HnivZ3-GnXtC"
      },
      "outputs": [],
      "source": [
        "# function to read raw text file\n",
        "def read_text(filename):\n",
        "    # open the file\n",
        "    file = open(filename, mode='rt', encoding='utf-8')\n",
        "    # read all text\n",
        "    text = file.read()\n",
        "    file.close()\n",
        "    return text"
      ]
    },
    {
      "cell_type": "code",
      "execution_count": 3,
      "metadata": {
        "id": "r2Qy5z_2n0R5"
      },
      "outputs": [],
      "source": [
        "# split a text into sentences\n",
        "def to_lines(text):\n",
        "    sents = text.strip().split('\\n')\n",
        "    sents = [i.split('\\t') for i in sents]\n",
        "    return sents"
      ]
    },
    {
      "cell_type": "code",
      "execution_count": 4,
      "metadata": {
        "id": "r3qRs3EVn4N9"
      },
      "outputs": [],
      "source": [
        "data = read_text(\"/content/rus.txt\")\n",
        "deu_eng = to_lines(data)\n",
        "deu_eng = array(deu_eng)"
      ]
    },
    {
      "cell_type": "code",
      "execution_count": 5,
      "metadata": {
        "id": "homArZA3ofbr"
      },
      "outputs": [],
      "source": [
        "deu_eng = deu_eng[:50000,:]"
      ]
    },
    {
      "cell_type": "code",
      "execution_count": 6,
      "metadata": {
        "colab": {
          "base_uri": "https://localhost:8080/"
        },
        "id": "Im5olLCqqQoB",
        "outputId": "9484c5cd-77f2-45cf-b2ed-30dc47703db6"
      },
      "outputs": [
        {
          "output_type": "execute_result",
          "data": {
            "text/plain": [
              "array([['Go.', 'Марш!'],\n",
              "       ['Go.', 'Иди.'],\n",
              "       ['Go.', 'Идите.'],\n",
              "       ...,\n",
              "       ['The room was cold.', 'Комната была холодной.'],\n",
              "       ['The room was dark.', 'В комнате было темно.'],\n",
              "       ['The room was warm.', 'В комнате было тепло.']], dtype='<U100')"
            ]
          },
          "metadata": {},
          "execution_count": 6
        }
      ],
      "source": [
        "deu_eng = np.delete(deu_eng, 2, 1)\n",
        "deu_eng"
      ]
    },
    {
      "cell_type": "code",
      "execution_count": 7,
      "metadata": {
        "id": "fRf425mFqWvw"
      },
      "outputs": [],
      "source": [
        "deu_eng[:,0] = [s.translate(str.maketrans('', '', string.punctuation)) for s in deu_eng[:,0]]\n",
        "deu_eng[:,1] = [s.translate(str.maketrans('', '', string.punctuation)) for s in deu_eng[:,1]]"
      ]
    },
    {
      "cell_type": "code",
      "execution_count": 8,
      "metadata": {
        "colab": {
          "base_uri": "https://localhost:8080/"
        },
        "id": "8v94aJDdqsC5",
        "outputId": "f4d05542-58a9-4dd1-f67f-a8c9a0c6e264"
      },
      "outputs": [
        {
          "output_type": "execute_result",
          "data": {
            "text/plain": [
              "array([['Go', 'Марш'],\n",
              "       ['Go', 'Иди'],\n",
              "       ['Go', 'Идите'],\n",
              "       ...,\n",
              "       ['The room was cold', 'Комната была холодной'],\n",
              "       ['The room was dark', 'В комнате было темно'],\n",
              "       ['The room was warm', 'В комнате было тепло']], dtype='<U100')"
            ]
          },
          "metadata": {},
          "execution_count": 8
        }
      ],
      "source": [
        "deu_eng"
      ]
    },
    {
      "cell_type": "code",
      "execution_count": 9,
      "metadata": {
        "id": "Lz83GeTxqvZq"
      },
      "outputs": [],
      "source": [
        "# convert to lowercase\n",
        "for i in range(len(deu_eng)):\n",
        "    deu_eng[i,0] = deu_eng[i,0].lower()\n",
        "\n",
        "    deu_eng[i,1] = deu_eng[i,1].lower()"
      ]
    },
    {
      "cell_type": "code",
      "execution_count": 10,
      "metadata": {
        "colab": {
          "base_uri": "https://localhost:8080/"
        },
        "id": "L_sm63oiq4Ag",
        "outputId": "a5693127-1d7c-4906-af37-13095d07def6"
      },
      "outputs": [
        {
          "output_type": "execute_result",
          "data": {
            "text/plain": [
              "array([['go', 'марш'],\n",
              "       ['go', 'иди'],\n",
              "       ['go', 'идите'],\n",
              "       ...,\n",
              "       ['the room was cold', 'комната была холодной'],\n",
              "       ['the room was dark', 'в комнате было темно'],\n",
              "       ['the room was warm', 'в комнате было тепло']], dtype='<U100')"
            ]
          },
          "metadata": {},
          "execution_count": 10
        }
      ],
      "source": [
        "deu_eng"
      ]
    },
    {
      "cell_type": "code",
      "execution_count": 11,
      "metadata": {
        "id": "SiY5oZgjq82v"
      },
      "outputs": [],
      "source": [
        "# empty lists\n",
        "eng_l = []\n",
        "deu_l = []\n",
        "\n",
        "# populate the lists with sentence lengths\n",
        "for i in deu_eng[:,0]:\n",
        "    eng_l.append(len(i.split()))\n",
        "\n",
        "for i in deu_eng[:,1]:\n",
        "    deu_l.append(len(i.split()))"
      ]
    },
    {
      "cell_type": "code",
      "execution_count": 12,
      "metadata": {
        "id": "DqA8tp-3A5i9"
      },
      "outputs": [],
      "source": [
        "length_df = pd.DataFrame({'eng':eng_l, 'deu':deu_l})"
      ]
    },
    {
      "cell_type": "code",
      "execution_count": 13,
      "metadata": {
        "colab": {
          "base_uri": "https://localhost:8080/",
          "height": 452
        },
        "id": "bWzvGe6FA-z_",
        "outputId": "82dc9008-a92f-4b6b-c214-d5d128d5eb4a"
      },
      "outputs": [
        {
          "output_type": "display_data",
          "data": {
            "text/plain": [
              "<Figure size 640x480 with 2 Axes>"
            ],
            "image/png": "[encoded data removed]"
          },
          "metadata": {}
        }
      ],
      "source": [
        "length_df.hist(bins = 30)\n",
        "plt.show()"
      ]
    },
    {
      "cell_type": "code",
      "execution_count": 14,
      "metadata": {
        "id": "MdPp2F7iBBkt"
      },
      "outputs": [],
      "source": [
        "# function to build a tokenizer\n",
        "def tokenization(lines):\n",
        "    tokenizer = Tokenizer()\n",
        "    tokenizer.fit_on_texts(lines)\n",
        "    return tokenizer"
      ]
    },
    {
      "cell_type": "code",
      "execution_count": 15,
      "metadata": {
        "colab": {
          "base_uri": "https://localhost:8080/"
        },
        "id": "6kMtjj4vBHh1",
        "outputId": "1ac0510e-6449-433c-d3c7-54ce4ac3d560"
      },
      "outputs": [
        {
          "output_type": "stream",
          "name": "stdout",
          "text": [
            "English Vocabulary Size: 5048\n"
          ]
        }
      ],
      "source": [
        "# prepare english tokenizer\n",
        "eng_tokenizer = tokenization(deu_eng[:, 0])\n",
        "eng_vocab_size = len(eng_tokenizer.word_index) + 1\n",
        "\n",
        "eng_length = 8\n",
        "print('English Vocabulary Size: %d' % eng_vocab_size)"
      ]
    },
    {
      "cell_type": "code",
      "execution_count": 16,
      "metadata": {
        "colab": {
          "base_uri": "https://localhost:8080/"
        },
        "id": "3uHPGy3XBMDr",
        "outputId": "e531a8e4-682a-4a08-950e-a44473ea32bc"
      },
      "outputs": [
        {
          "output_type": "stream",
          "name": "stdout",
          "text": [
            "Deutch Vocabulary Size: 13766\n"
          ]
        }
      ],
      "source": [
        "# prepare Deutch tokenizer\n",
        "deu_tokenizer = tokenization(deu_eng[:, 1])\n",
        "deu_vocab_size = len(deu_tokenizer.word_index) + 1\n",
        "\n",
        "deu_length = 8\n",
        "print('Deutch Vocabulary Size: %d' % deu_vocab_size)"
      ]
    },
    {
      "cell_type": "code",
      "execution_count": 17,
      "metadata": {
        "id": "bhHkMHW2BPr7"
      },
      "outputs": [],
      "source": [
        "# encode and pad sequences\n",
        "def encode_sequences(tokenizer, length, lines):\n",
        "    # integer encode sequences\n",
        "    seq = tokenizer.texts_to_sequences(lines)\n",
        "    # pad sequences with 0 values\n",
        "    seq = pad_sequences(seq, maxlen=length, padding='post')\n",
        "    return seq"
      ]
    },
    {
      "cell_type": "code",
      "execution_count": 18,
      "metadata": {
        "id": "vYJ1tvvYBURX"
      },
      "outputs": [],
      "source": [
        "from sklearn.model_selection import train_test_split\n",
        "train, test = train_test_split(deu_eng, test_size=0.2, random_state = 12)"
      ]
    },
    {
      "cell_type": "code",
      "execution_count": 19,
      "metadata": {
        "id": "ivH9foZbBYYc"
      },
      "outputs": [],
      "source": [
        "# prepare training data\n",
        "trainX = encode_sequences(deu_tokenizer, deu_length, train[:, 1])\n",
        "trainY = encode_sequences(eng_tokenizer, eng_length, train[:, 0])"
      ]
    },
    {
      "cell_type": "code",
      "execution_count": 20,
      "metadata": {
        "id": "XZ6e545kBdai"
      },
      "outputs": [],
      "source": [
        "# prepare validation data\n",
        "testX = encode_sequences(deu_tokenizer, deu_length, test[:, 1])\n",
        "testY = encode_sequences(eng_tokenizer, eng_length, test[:, 0])"
      ]
    },
    {
      "cell_type": "code",
      "execution_count": 21,
      "metadata": {
        "id": "-OvDGRPRBg2s"
      },
      "outputs": [],
      "source": [
        "# build NMT model\n",
        "def build_model(in_vocab, out_vocab, in_timesteps, out_timesteps, units):\n",
        "    model = Sequential()\n",
        "    model.add(Embedding(in_vocab, units, input_length=in_timesteps, mask_zero=True))\n",
        "    model.add(LSTM(units))\n",
        "    model.add(RepeatVector(out_timesteps))\n",
        "    model.add(LSTM(units, return_sequences=True))\n",
        "    model.add(Dense(out_vocab, activation='softmax'))\n",
        "    return model"
      ]
    },
    {
      "cell_type": "code",
      "execution_count": 23,
      "metadata": {
        "id": "tJYFVKhfBkVS"
      },
      "outputs": [],
      "source": [
        "model = build_model(deu_vocab_size, eng_vocab_size, deu_length, eng_length, 512)\n",
        "rms = optimizers.RMSprop(learning_rate=0.001)\n",
        "model.compile(optimizer=rms, loss='sparse_categorical_crossentropy')"
      ]
    },
    {
      "cell_type": "code",
      "execution_count": 24,
      "metadata": {
        "colab": {
          "base_uri": "https://localhost:8080/"
        },
        "id": "1h88b2uuB4Lg",
        "outputId": "006764d4-016a-4fad-f34d-a1adac5457fa"
      },
      "outputs": [
        {
          "output_type": "stream",
          "name": "stdout",
          "text": [
            "Epoch 1/30\n",
            "63/63 [==============================] - ETA: 0s - loss: 4.0210\n",
            "Epoch 1: val_loss improved from inf to 2.89846, saving model to model.h1.2_Dec_23\n",
            "63/63 [==============================] - 278s 4s/step - loss: 4.0210 - val_loss: 2.8985\n",
            "Epoch 2/30\n",
            "63/63 [==============================] - ETA: 0s - loss: 2.6488\n",
            "Epoch 2: val_loss improved from 2.89846 to 2.51856, saving model to model.h1.2_Dec_23\n",
            "63/63 [==============================] - 266s 4s/step - loss: 2.6488 - val_loss: 2.5186\n",
            "Epoch 3/30\n",
            "63/63 [==============================] - ETA: 0s - loss: 2.4710\n",
            "Epoch 3: val_loss improved from 2.51856 to 2.45586, saving model to model.h1.2_Dec_23\n",
            "63/63 [==============================] - 287s 5s/step - loss: 2.4710 - val_loss: 2.4559\n",
            "Epoch 4/30\n",
            "63/63 [==============================] - ETA: 0s - loss: 2.4199\n",
            "Epoch 4: val_loss improved from 2.45586 to 2.40176, saving model to model.h1.2_Dec_23\n",
            "63/63 [==============================] - 268s 4s/step - loss: 2.4199 - val_loss: 2.4018\n",
            "Epoch 5/30\n",
            "63/63 [==============================] - ETA: 0s - loss: 2.3923\n",
            "Epoch 5: val_loss improved from 2.40176 to 2.38296, saving model to model.h1.2_Dec_23\n",
            "63/63 [==============================] - 268s 4s/step - loss: 2.3923 - val_loss: 2.3830\n",
            "Epoch 6/30\n",
            "63/63 [==============================] - ETA: 0s - loss: 2.3705\n",
            "Epoch 6: val_loss improved from 2.38296 to 2.37469, saving model to model.h1.2_Dec_23\n",
            "63/63 [==============================] - 283s 5s/step - loss: 2.3705 - val_loss: 2.3747\n",
            "Epoch 7/30\n",
            "63/63 [==============================] - ETA: 0s - loss: 2.3539\n",
            "Epoch 7: val_loss improved from 2.37469 to 2.35650, saving model to model.h1.2_Dec_23\n",
            "63/63 [==============================] - 268s 4s/step - loss: 2.3539 - val_loss: 2.3565\n",
            "Epoch 8/30\n",
            "63/63 [==============================] - ETA: 0s - loss: 2.3396\n",
            "Epoch 8: val_loss improved from 2.35650 to 2.34412, saving model to model.h1.2_Dec_23\n",
            "63/63 [==============================] - 268s 4s/step - loss: 2.3396 - val_loss: 2.3441\n",
            "Epoch 9/30\n",
            "63/63 [==============================] - ETA: 0s - loss: 2.3248\n",
            "Epoch 9: val_loss improved from 2.34412 to 2.32861, saving model to model.h1.2_Dec_23\n",
            "63/63 [==============================] - 271s 4s/step - loss: 2.3248 - val_loss: 2.3286\n",
            "Epoch 10/30\n",
            "63/63 [==============================] - ETA: 0s - loss: 2.3067\n",
            "Epoch 10: val_loss improved from 2.32861 to 2.30936, saving model to model.h1.2_Dec_23\n",
            "63/63 [==============================] - 270s 4s/step - loss: 2.3067 - val_loss: 2.3094\n",
            "Epoch 11/30\n",
            "63/63 [==============================] - ETA: 0s - loss: 2.2846\n",
            "Epoch 11: val_loss improved from 2.30936 to 2.30205, saving model to model.h1.2_Dec_23\n",
            "63/63 [==============================] - 270s 4s/step - loss: 2.2846 - val_loss: 2.3021\n",
            "Epoch 12/30\n",
            "63/63 [==============================] - ETA: 0s - loss: 2.2667\n",
            "Epoch 12: val_loss improved from 2.30205 to 2.27432, saving model to model.h1.2_Dec_23\n",
            "63/63 [==============================] - 273s 4s/step - loss: 2.2667 - val_loss: 2.2743\n",
            "Epoch 13/30\n",
            "63/63 [==============================] - ETA: 0s - loss: 2.2503\n",
            "Epoch 13: val_loss improved from 2.27432 to 2.26264, saving model to model.h1.2_Dec_23\n",
            "63/63 [==============================] - 268s 4s/step - loss: 2.2503 - val_loss: 2.2626\n",
            "Epoch 14/30\n",
            "63/63 [==============================] - ETA: 0s - loss: 2.2347\n",
            "Epoch 14: val_loss improved from 2.26264 to 2.24712, saving model to model.h1.2_Dec_23\n",
            "63/63 [==============================] - 267s 4s/step - loss: 2.2347 - val_loss: 2.2471\n",
            "Epoch 15/30\n",
            "63/63 [==============================] - ETA: 0s - loss: 2.2168\n",
            "Epoch 15: val_loss improved from 2.24712 to 2.22806, saving model to model.h1.2_Dec_23\n",
            "63/63 [==============================] - 283s 4s/step - loss: 2.2168 - val_loss: 2.2281\n",
            "Epoch 16/30\n",
            "63/63 [==============================] - ETA: 0s - loss: 2.1964\n",
            "Epoch 16: val_loss improved from 2.22806 to 2.21193, saving model to model.h1.2_Dec_23\n",
            "63/63 [==============================] - 272s 4s/step - loss: 2.1964 - val_loss: 2.2119\n",
            "Epoch 17/30\n",
            "63/63 [==============================] - ETA: 0s - loss: 2.1767\n",
            "Epoch 17: val_loss improved from 2.21193 to 2.19487, saving model to model.h1.2_Dec_23\n",
            "63/63 [==============================] - 292s 5s/step - loss: 2.1767 - val_loss: 2.1949\n",
            "Epoch 18/30\n",
            "63/63 [==============================] - ETA: 0s - loss: 2.1582\n",
            "Epoch 18: val_loss improved from 2.19487 to 2.18694, saving model to model.h1.2_Dec_23\n",
            "63/63 [==============================] - 262s 4s/step - loss: 2.1582 - val_loss: 2.1869\n",
            "Epoch 19/30\n",
            "63/63 [==============================] - ETA: 0s - loss: 2.1425\n",
            "Epoch 19: val_loss improved from 2.18694 to 2.16039, saving model to model.h1.2_Dec_23\n",
            "63/63 [==============================] - 266s 4s/step - loss: 2.1425 - val_loss: 2.1604\n",
            "Epoch 20/30\n",
            "63/63 [==============================] - ETA: 0s - loss: 2.1264\n",
            "Epoch 20: val_loss improved from 2.16039 to 2.14686, saving model to model.h1.2_Dec_23\n",
            "63/63 [==============================] - 268s 4s/step - loss: 2.1264 - val_loss: 2.1469\n",
            "Epoch 21/30\n",
            "63/63 [==============================] - ETA: 0s - loss: 2.1092\n",
            "Epoch 21: val_loss improved from 2.14686 to 2.12891, saving model to model.h1.2_Dec_23\n",
            "63/63 [==============================] - 266s 4s/step - loss: 2.1092 - val_loss: 2.1289\n",
            "Epoch 22/30\n",
            "63/63 [==============================] - ETA: 0s - loss: 2.0912\n",
            "Epoch 22: val_loss improved from 2.12891 to 2.11577, saving model to model.h1.2_Dec_23\n",
            "63/63 [==============================] - 266s 4s/step - loss: 2.0912 - val_loss: 2.1158\n",
            "Epoch 23/30\n",
            "63/63 [==============================] - ETA: 0s - loss: 2.0722\n",
            "Epoch 23: val_loss improved from 2.11577 to 2.10891, saving model to model.h1.2_Dec_23\n",
            "63/63 [==============================] - 265s 4s/step - loss: 2.0722 - val_loss: 2.1089\n",
            "Epoch 24/30\n",
            "63/63 [==============================] - ETA: 0s - loss: 2.0544\n",
            "Epoch 24: val_loss improved from 2.10891 to 2.07832, saving model to model.h1.2_Dec_23\n",
            "63/63 [==============================] - 264s 4s/step - loss: 2.0544 - val_loss: 2.0783\n",
            "Epoch 25/30\n",
            "63/63 [==============================] - ETA: 0s - loss: 2.0371\n",
            "Epoch 25: val_loss improved from 2.07832 to 2.07147, saving model to model.h1.2_Dec_23\n",
            "63/63 [==============================] - 281s 4s/step - loss: 2.0371 - val_loss: 2.0715\n",
            "Epoch 26/30\n",
            "63/63 [==============================] - ETA: 0s - loss: 2.0195\n",
            "Epoch 26: val_loss improved from 2.07147 to 2.05558, saving model to model.h1.2_Dec_23\n",
            "63/63 [==============================] - 265s 4s/step - loss: 2.0195 - val_loss: 2.0556\n",
            "Epoch 27/30\n",
            "63/63 [==============================] - ETA: 0s - loss: 2.0036\n",
            "Epoch 27: val_loss improved from 2.05558 to 2.03833, saving model to model.h1.2_Dec_23\n",
            "63/63 [==============================] - 264s 4s/step - loss: 2.0036 - val_loss: 2.0383\n",
            "Epoch 28/30\n",
            "63/63 [==============================] - ETA: 0s - loss: 1.9883\n",
            "Epoch 28: val_loss improved from 2.03833 to 2.02381, saving model to model.h1.2_Dec_23\n",
            "63/63 [==============================] - 263s 4s/step - loss: 1.9883 - val_loss: 2.0238\n",
            "Epoch 29/30\n",
            "63/63 [==============================] - ETA: 0s - loss: 1.9699\n",
            "Epoch 29: val_loss improved from 2.02381 to 2.00758, saving model to model.h1.2_Dec_23\n",
            "63/63 [==============================] - 283s 5s/step - loss: 1.9699 - val_loss: 2.0076\n",
            "Epoch 30/30\n",
            "63/63 [==============================] - ETA: 0s - loss: 1.9538\n",
            "Epoch 30: val_loss improved from 2.00758 to 1.99706, saving model to model.h1.2_Dec_23\n",
            "63/63 [==============================] - 300s 5s/step - loss: 1.9538 - val_loss: 1.9971\n"
          ]
        }
      ],
      "source": [
        "filename = 'model.h1.2_Dec_23'\n",
        "checkpoint = ModelCheckpoint(filename, monitor='val_loss', verbose=1, save_best_only=True, mode='min')\n",
        "\n",
        "history = model.fit(trainX, trainY.reshape(trainY.shape[0], trainY.shape[1], 1),\n",
        "          epochs=30, batch_size=512,\n",
        "          validation_split = 0.2,\n",
        "          callbacks=[checkpoint], verbose=1)"
      ]
    },
    {
      "cell_type": "code",
      "execution_count": 25,
      "metadata": {
        "colab": {
          "base_uri": "https://localhost:8080/",
          "height": 430
        },
        "id": "snBya2B-CGWB",
        "outputId": "a141477f-9493-47ba-ebf2-fd5109594c89"
      },
      "outputs": [
        {
          "output_type": "display_data",
          "data": {
            "text/plain": [
              "<Figure size 640x480 with 1 Axes>"
            ],
            "image/png": "[encoded data removed]"
          },
          "metadata": {}
        }
      ],
      "source": [
        "plt.plot(history.history['loss'])\n",
        "plt.plot(history.history['val_loss'])\n",
        "plt.legend(['train','validation'])\n",
        "plt.show()"
      ]
    },
    {
      "cell_type": "code",
      "execution_count": 26,
      "metadata": {
        "colab": {
          "base_uri": "https://localhost:8080/"
        },
        "id": "o5OTaJ5aWdqJ",
        "outputId": "4fd166a7-68ce-4b1e-d339-7f3fa722b664"
      },
      "outputs": [
        {
          "output_type": "stream",
          "name": "stdout",
          "text": [
            "313/313 [==============================] - 40s 116ms/step\n"
          ]
        }
      ],
      "source": [
        "model = load_model('model.h1.2_Dec_23')\n",
        "preds = np.argmax(model.predict(testX.reshape((testX.shape[0],testX.shape[1]))),axis=-1)"
      ]
    },
    {
      "cell_type": "code",
      "execution_count": 27,
      "metadata": {
        "id": "2ZVmXhJxWpcw"
      },
      "outputs": [],
      "source": [
        "def get_word(n, tokenizer):\n",
        "    for word, index in tokenizer.word_index.items():\n",
        "        if index == n:\n",
        "            return word\n",
        "    return None"
      ]
    },
    {
      "cell_type": "code",
      "execution_count": 28,
      "metadata": {
        "id": "SPMm_SLTYHDa"
      },
      "outputs": [],
      "source": [
        "# convert predictions into text (English)\n",
        "preds_text = []\n",
        "for i in preds:\n",
        "    temp = []\n",
        "    for j in range(len(i)):\n",
        "        t = get_word(i[j], eng_tokenizer)\n",
        "        if j > 0:\n",
        "            if (t == get_word(i[j-1], eng_tokenizer)) or (t == None):\n",
        "                temp.append('')\n",
        "            else:\n",
        "                temp.append(t)\n",
        "\n",
        "        else:\n",
        "            if(t == None):\n",
        "                temp.append('')\n",
        "            else:\n",
        "                temp.append(t)\n",
        "\n",
        "    preds_text.append(' '.join(temp))"
      ]
    },
    {
      "cell_type": "code",
      "execution_count": 29,
      "metadata": {
        "id": "cuq7xKldYH41"
      },
      "outputs": [],
      "source": [
        "pred_df = pd.DataFrame({'actual' : test[:,0], 'predicted' : preds_text})"
      ]
    },
    {
      "cell_type": "code",
      "execution_count": 30,
      "metadata": {
        "id": "eZgM9Nt_YcXH"
      },
      "outputs": [],
      "source": [
        "pd.set_option('display.max_colwidth', 200)"
      ]
    },
    {
      "cell_type": "code",
      "execution_count": 31,
      "metadata": {
        "colab": {
          "base_uri": "https://localhost:8080/",
          "height": 519
        },
        "id": "NHNcHJ4xYfL9",
        "outputId": "28aaa2ea-5121-48a6-ae4c-249a354ebde9"
      },
      "outputs": [
        {
          "output_type": "execute_result",
          "data": {
            "text/plain": [
              "               actual       predicted\n",
              "0    i was in the gym    i was a     \n",
              "1           forget it      are       \n",
              "2         im a pisces      im a      \n",
              "3        i ate a pear    i was a     \n",
              "4    hes from georgia   he was a     \n",
              "5    why did you hide   did you      \n",
              "6   i need to see you   i  to you    \n",
              "7    arent you sleepy      you       \n",
              "8      i was an idiot    i was a     \n",
              "9    do as youre told   who you      \n",
              "10        who is that    its is      \n",
              "11           im tense      im a      \n",
              "12        stop trying  dont are      \n",
              "13        push harder   its the      \n",
              "14      we were happy  we were a     "
            ],
            "text/html": [
              "\n",
              "  <div id=\"df-7d0bd685-f460-4147-8748-9589d4832a82\" class=\"colab-df-container\">\n",
              "    <div>\n",
              "<style scoped>\n",
              "    .dataframe tbody tr th:only-of-type {\n",
              "        vertical-align: middle;\n",
              "    }\n",
              "\n",
              "    .dataframe tbody tr th {\n",
              "        vertical-align: top;\n",
              "    }\n",
              "\n",
              "    .dataframe thead th {\n",
              "        text-align: right;\n",
              "    }\n",
              "</style>\n",
              "<table border=\"1\" class=\"dataframe\">\n",
              "  <thead>\n",
              "    <tr style=\"text-align: right;\">\n",
              "      <th></th>\n",
              "      <th>actual</th>\n",
              "      <th>predicted</th>\n",
              "    </tr>\n",
              "  </thead>\n",
              "  <tbody>\n",
              "    <tr>\n",
              "      <th>0</th>\n",
              "      <td>i was in the gym</td>\n",
              "      <td>i was a</td>\n",
              "    </tr>\n",
              "    <tr>\n",
              "      <th>1</th>\n",
              "      <td>forget it</td>\n",
              "      <td>are</td>\n",
              "    </tr>\n",
              "    <tr>\n",
              "      <th>2</th>\n",
              "      <td>im a pisces</td>\n",
              "      <td>im a</td>\n",
              "    </tr>\n",
              "    <tr>\n",
              "      <th>3</th>\n",
              "      <td>i ate a pear</td>\n",
              "      <td>i was a</td>\n",
              "    </tr>\n",
              "    <tr>\n",
              "      <th>4</th>\n",
              "      <td>hes from georgia</td>\n",
              "      <td>he was a</td>\n",
              "    </tr>\n",
              "    <tr>\n",
              "      <th>5</th>\n",
              "      <td>why did you hide</td>\n",
              "      <td>did you</td>\n",
              "    </tr>\n",
              "    <tr>\n",
              "      <th>6</th>\n",
              "      <td>i need to see you</td>\n",
              "      <td>i  to you</td>\n",
              "    </tr>\n",
              "    <tr>\n",
              "      <th>7</th>\n",
              "      <td>arent you sleepy</td>\n",
              "      <td>you</td>\n",
              "    </tr>\n",
              "    <tr>\n",
              "      <th>8</th>\n",
              "      <td>i was an idiot</td>\n",
              "      <td>i was a</td>\n",
              "    </tr>\n",
              "    <tr>\n",
              "      <th>9</th>\n",
              "      <td>do as youre told</td>\n",
              "      <td>who you</td>\n",
              "    </tr>\n",
              "    <tr>\n",
              "      <th>10</th>\n",
              "      <td>who is that</td>\n",
              "      <td>its is</td>\n",
              "    </tr>\n",
              "    <tr>\n",
              "      <th>11</th>\n",
              "      <td>im tense</td>\n",
              "      <td>im a</td>\n",
              "    </tr>\n",
              "    <tr>\n",
              "      <th>12</th>\n",
              "      <td>stop trying</td>\n",
              "      <td>dont are</td>\n",
              "    </tr>\n",
              "    <tr>\n",
              "      <th>13</th>\n",
              "      <td>push harder</td>\n",
              "      <td>its the</td>\n",
              "    </tr>\n",
              "    <tr>\n",
              "      <th>14</th>\n",
              "      <td>we were happy</td>\n",
              "      <td>we were a</td>\n",
              "    </tr>\n",
              "  </tbody>\n",
              "</table>\n",
              "</div>\n",
              "    <div class=\"colab-df-buttons\">\n",
              "\n",
              "  <div class=\"colab-df-container\">\n",
              "    <button class=\"colab-df-convert\" onclick=\"convertToInteractive('df-7d0bd685-f460-4147-8748-9589d4832a82')\"\n",
              "            title=\"Convert this dataframe to an interactive table.\"\n",
              "            style=\"display:none;\">\n",
              "\n",
              "  <svg xmlns=\"http://www.w3.org/2000/svg\" height=\"24px\" viewBox=\"0 -960 960 960\">\n",
              "    <path d=\"M120-120v-720h720v720H120Zm60-500h600v-160H180v160Zm220 220h160v-160H400v160Zm0 220h160v-160H400v160ZM180-400h160v-160H180v160Zm440 0h160v-160H620v160ZM180-180h160v-160H180v160Zm440 0h160v-160H620v160Z\"/>\n",
              "  </svg>\n",
              "    </button>\n",
              "\n",
              "  <style>\n",
              "    .colab-df-container {\n",
              "      display:flex;\n",
              "      gap: 12px;\n",
              "    }\n",
              "\n",
              "    .colab-df-convert {\n",
              "      background-color: #E8F0FE;\n",
              "      border: none;\n",
              "      border-radius: 50%;\n",
              "      cursor: pointer;\n",
              "      display: none;\n",
              "      fill: #1967D2;\n",
              "      height: 32px;\n",
              "      padding: 0 0 0 0;\n",
              "      width: 32px;\n",
              "    }\n",
              "\n",
              "    .colab-df-convert:hover {\n",
              "      background-color: #E2EBFA;\n",
              "      box-shadow: 0px 1px 2px rgba(60, 64, 67, 0.3), 0px 1px 3px 1px rgba(60, 64, 67, 0.15);\n",
              "      fill: #174EA6;\n",
              "    }\n",
              "\n",
              "    .colab-df-buttons div {\n",
              "      margin-bottom: 4px;\n",
              "    }\n",
              "\n",
              "    [theme=dark] .colab-df-convert {\n",
              "      background-color: #3B4455;\n",
              "      fill: #D2E3FC;\n",
              "    }\n",
              "\n",
              "    [theme=dark] .colab-df-convert:hover {\n",
              "      background-color: #434B5C;\n",
              "      box-shadow: 0px 1px 3px 1px rgba(0, 0, 0, 0.15);\n",
              "      filter: drop-shadow(0px 1px 2px rgba(0, 0, 0, 0.3));\n",
              "      fill: #FFFFFF;\n",
              "    }\n",
              "  </style>\n",
              "\n",
              "    <script>\n",
              "      const buttonEl =\n",
              "        document.querySelector('#df-7d0bd685-f460-4147-8748-9589d4832a82 button.colab-df-convert');\n",
              "      buttonEl.style.display =\n",
              "        google.colab.kernel.accessAllowed ? 'block' : 'none';\n",
              "\n",
              "      async function convertToInteractive(key) {\n",
              "        const element = document.querySelector('#df-7d0bd685-f460-4147-8748-9589d4832a82');\n",
              "        const dataTable =\n",
              "          await google.colab.kernel.invokeFunction('convertToInteractive',\n",
              "                                                    [key], {});\n",
              "        if (!dataTable) return;\n",
              "\n",
              "        const docLinkHtml = 'Like what you see? Visit the ' +\n",
              "          '<a target=\"_blank\" href=https://colab.research.google.com/notebooks/data_table.ipynb>data table notebook</a>'\n",
              "          + ' to learn more about interactive tables.';\n",
              "        element.innerHTML = '';\n",
              "        dataTable['output_type'] = 'display_data';\n",
              "        await google.colab.output.renderOutput(dataTable, element);\n",
              "        const docLink = document.createElement('div');\n",
              "        docLink.innerHTML = docLinkHtml;\n",
              "        element.appendChild(docLink);\n",
              "      }\n",
              "    </script>\n",
              "  </div>\n",
              "\n",
              "\n",
              "<div id=\"df-10006dba-6aac-44b2-b3fe-d22d2097c130\">\n",
              "  <button class=\"colab-df-quickchart\" onclick=\"quickchart('df-10006dba-6aac-44b2-b3fe-d22d2097c130')\"\n",
              "            title=\"Suggest charts\"\n",
              "            style=\"display:none;\">\n",
              "\n",
              "<svg xmlns=\"http://www.w3.org/2000/svg\" height=\"24px\"viewBox=\"0 0 24 24\"\n",
              "     width=\"24px\">\n",
              "    <g>\n",
              "        <path d=\"M19 3H5c-1.1 0-2 .9-2 2v14c0 1.1.9 2 2 2h14c1.1 0 2-.9 2-2V5c0-1.1-.9-2-2-2zM9 17H7v-7h2v7zm4 0h-2V7h2v10zm4 0h-2v-4h2v4z\"/>\n",
              "    </g>\n",
              "</svg>\n",
              "  </button>\n",
              "\n",
              "<style>\n",
              "  .colab-df-quickchart {\n",
              "      --bg-color: #E8F0FE;\n",
              "      --fill-color: #1967D2;\n",
              "      --hover-bg-color: #E2EBFA;\n",
              "      --hover-fill-color: #174EA6;\n",
              "      --disabled-fill-color: #AAA;\n",
              "      --disabled-bg-color: #DDD;\n",
              "  }\n",
              "\n",
              "  [theme=dark] .colab-df-quickchart {\n",
              "      --bg-color: #3B4455;\n",
              "      --fill-color: #D2E3FC;\n",
              "      --hover-bg-color: #434B5C;\n",
              "      --hover-fill-color: #FFFFFF;\n",
              "      --disabled-bg-color: #3B4455;\n",
              "      --disabled-fill-color: #666;\n",
              "  }\n",
              "\n",
              "  .colab-df-quickchart {\n",
              "    background-color: var(--bg-color);\n",
              "    border: none;\n",
              "    border-radius: 50%;\n",
              "    cursor: pointer;\n",
              "    display: none;\n",
              "    fill: var(--fill-color);\n",
              "    height: 32px;\n",
              "    padding: 0;\n",
              "    width: 32px;\n",
              "  }\n",
              "\n",
              "  .colab-df-quickchart:hover {\n",
              "    background-color: var(--hover-bg-color);\n",
              "    box-shadow: 0 1px 2px rgba(60, 64, 67, 0.3), 0 1px 3px 1px rgba(60, 64, 67, 0.15);\n",
              "    fill: var(--button-hover-fill-color);\n",
              "  }\n",
              "\n",
              "  .colab-df-quickchart-complete:disabled,\n",
              "  .colab-df-quickchart-complete:disabled:hover {\n",
              "    background-color: var(--disabled-bg-color);\n",
              "    fill: var(--disabled-fill-color);\n",
              "    box-shadow: none;\n",
              "  }\n",
              "\n",
              "  .colab-df-spinner {\n",
              "    border: 2px solid var(--fill-color);\n",
              "    border-color: transparent;\n",
              "    border-bottom-color: var(--fill-color);\n",
              "    animation:\n",
              "      spin 1s steps(1) infinite;\n",
              "  }\n",
              "\n",
              "  @keyframes spin {\n",
              "    0% {\n",
              "      border-color: transparent;\n",
              "      border-bottom-color: var(--fill-color);\n",
              "      border-left-color: var(--fill-color);\n",
              "    }\n",
              "    20% {\n",
              "      border-color: transparent;\n",
              "      border-left-color: var(--fill-color);\n",
              "      border-top-color: var(--fill-color);\n",
              "    }\n",
              "    30% {\n",
              "      border-color: transparent;\n",
              "      border-left-color: var(--fill-color);\n",
              "      border-top-color: var(--fill-color);\n",
              "      border-right-color: var(--fill-color);\n",
              "    }\n",
              "    40% {\n",
              "      border-color: transparent;\n",
              "      border-right-color: var(--fill-color);\n",
              "      border-top-color: var(--fill-color);\n",
              "    }\n",
              "    60% {\n",
              "      border-color: transparent;\n",
              "      border-right-color: var(--fill-color);\n",
              "    }\n",
              "    80% {\n",
              "      border-color: transparent;\n",
              "      border-right-color: var(--fill-color);\n",
              "      border-bottom-color: var(--fill-color);\n",
              "    }\n",
              "    90% {\n",
              "      border-color: transparent;\n",
              "      border-bottom-color: var(--fill-color);\n",
              "    }\n",
              "  }\n",
              "</style>\n",
              "\n",
              "  <script>\n",
              "    async function quickchart(key) {\n",
              "      const quickchartButtonEl =\n",
              "        document.querySelector('#' + key + ' button');\n",
              "      quickchartButtonEl.disabled = true;  // To prevent multiple clicks.\n",
              "      quickchartButtonEl.classList.add('colab-df-spinner');\n",
              "      try {\n",
              "        const charts = await google.colab.kernel.invokeFunction(\n",
              "            'suggestCharts', [key], {});\n",
              "      } catch (error) {\n",
              "        console.error('Error during call to suggestCharts:', error);\n",
              "      }\n",
              "      quickchartButtonEl.classList.remove('colab-df-spinner');\n",
              "      quickchartButtonEl.classList.add('colab-df-quickchart-complete');\n",
              "    }\n",
              "    (() => {\n",
              "      let quickchartButtonEl =\n",
              "        document.querySelector('#df-10006dba-6aac-44b2-b3fe-d22d2097c130 button');\n",
              "      quickchartButtonEl.style.display =\n",
              "        google.colab.kernel.accessAllowed ? 'block' : 'none';\n",
              "    })();\n",
              "  </script>\n",
              "</div>\n",
              "    </div>\n",
              "  </div>\n"
            ]
          },
          "metadata": {},
          "execution_count": 31
        }
      ],
      "source": [
        "pred_df.head(15)"
      ]
    },
    {
      "cell_type": "code",
      "execution_count": 32,
      "metadata": {
        "colab": {
          "base_uri": "https://localhost:8080/",
          "height": 519
        },
        "id": "AdCMWam9Ysuh",
        "outputId": "70b7a202-51a8-432a-a111-29ff958150f4"
      },
      "outputs": [
        {
          "output_type": "execute_result",
          "data": {
            "text/plain": [
              "                actual         predicted\n",
              "8592     we missed you      we you      \n",
              "1960      i was hungry      i was a     \n",
              "8716      its very new     he was a     \n",
              "7101    lets calm down  lets the is     \n",
              "6719     thats for you        tom       \n",
              "2101       i found tom   i want tom     \n",
              "1659  tom has grown up      tom is      \n",
              "4106   youre a dreamer   youre you      \n",
              "471      tom is lonely      tom is      \n",
              "2209      youre strong   youre you      \n",
              "8108      he loves her      he tom      \n",
              "7371  are you all nuts        you       \n",
              "928     ill be patient      i was a     \n",
              "4783      im tired now        im a      \n",
              "3418         slow down        the       "
            ],
            "text/html": [
              "\n",
              "  <div id=\"df-ca10b087-f268-4d09-a028-95d2848f58af\" class=\"colab-df-container\">\n",
              "    <div>\n",
              "<style scoped>\n",
              "    .dataframe tbody tr th:only-of-type {\n",
              "        vertical-align: middle;\n",
              "    }\n",
              "\n",
              "    .dataframe tbody tr th {\n",
              "        vertical-align: top;\n",
              "    }\n",
              "\n",
              "    .dataframe thead th {\n",
              "        text-align: right;\n",
              "    }\n",
              "</style>\n",
              "<table border=\"1\" class=\"dataframe\">\n",
              "  <thead>\n",
              "    <tr style=\"text-align: right;\">\n",
              "      <th></th>\n",
              "      <th>actual</th>\n",
              "      <th>predicted</th>\n",
              "    </tr>\n",
              "  </thead>\n",
              "  <tbody>\n",
              "    <tr>\n",
              "      <th>8592</th>\n",
              "      <td>we missed you</td>\n",
              "      <td>we you</td>\n",
              "    </tr>\n",
              "    <tr>\n",
              "      <th>1960</th>\n",
              "      <td>i was hungry</td>\n",
              "      <td>i was a</td>\n",
              "    </tr>\n",
              "    <tr>\n",
              "      <th>8716</th>\n",
              "      <td>its very new</td>\n",
              "      <td>he was a</td>\n",
              "    </tr>\n",
              "    <tr>\n",
              "      <th>7101</th>\n",
              "      <td>lets calm down</td>\n",
              "      <td>lets the is</td>\n",
              "    </tr>\n",
              "    <tr>\n",
              "      <th>6719</th>\n",
              "      <td>thats for you</td>\n",
              "      <td>tom</td>\n",
              "    </tr>\n",
              "    <tr>\n",
              "      <th>2101</th>\n",
              "      <td>i found tom</td>\n",
              "      <td>i want tom</td>\n",
              "    </tr>\n",
              "    <tr>\n",
              "      <th>1659</th>\n",
              "      <td>tom has grown up</td>\n",
              "      <td>tom is</td>\n",
              "    </tr>\n",
              "    <tr>\n",
              "      <th>4106</th>\n",
              "      <td>youre a dreamer</td>\n",
              "      <td>youre you</td>\n",
              "    </tr>\n",
              "    <tr>\n",
              "      <th>471</th>\n",
              "      <td>tom is lonely</td>\n",
              "      <td>tom is</td>\n",
              "    </tr>\n",
              "    <tr>\n",
              "      <th>2209</th>\n",
              "      <td>youre strong</td>\n",
              "      <td>youre you</td>\n",
              "    </tr>\n",
              "    <tr>\n",
              "      <th>8108</th>\n",
              "      <td>he loves her</td>\n",
              "      <td>he tom</td>\n",
              "    </tr>\n",
              "    <tr>\n",
              "      <th>7371</th>\n",
              "      <td>are you all nuts</td>\n",
              "      <td>you</td>\n",
              "    </tr>\n",
              "    <tr>\n",
              "      <th>928</th>\n",
              "      <td>ill be patient</td>\n",
              "      <td>i was a</td>\n",
              "    </tr>\n",
              "    <tr>\n",
              "      <th>4783</th>\n",
              "      <td>im tired now</td>\n",
              "      <td>im a</td>\n",
              "    </tr>\n",
              "    <tr>\n",
              "      <th>3418</th>\n",
              "      <td>slow down</td>\n",
              "      <td>the</td>\n",
              "    </tr>\n",
              "  </tbody>\n",
              "</table>\n",
              "</div>\n",
              "    <div class=\"colab-df-buttons\">\n",
              "\n",
              "  <div class=\"colab-df-container\">\n",
              "    <button class=\"colab-df-convert\" onclick=\"convertToInteractive('df-ca10b087-f268-4d09-a028-95d2848f58af')\"\n",
              "            title=\"Convert this dataframe to an interactive table.\"\n",
              "            style=\"display:none;\">\n",
              "\n",
              "  <svg xmlns=\"http://www.w3.org/2000/svg\" height=\"24px\" viewBox=\"0 -960 960 960\">\n",
              "    <path d=\"M120-120v-720h720v720H120Zm60-500h600v-160H180v160Zm220 220h160v-160H400v160Zm0 220h160v-160H400v160ZM180-400h160v-160H180v160Zm440 0h160v-160H620v160ZM180-180h160v-160H180v160Zm440 0h160v-160H620v160Z\"/>\n",
              "  </svg>\n",
              "    </button>\n",
              "\n",
              "  <style>\n",
              "    .colab-df-container {\n",
              "      display:flex;\n",
              "      gap: 12px;\n",
              "    }\n",
              "\n",
              "    .colab-df-convert {\n",
              "      background-color: #E8F0FE;\n",
              "      border: none;\n",
              "      border-radius: 50%;\n",
              "      cursor: pointer;\n",
              "      display: none;\n",
              "      fill: #1967D2;\n",
              "      height: 32px;\n",
              "      padding: 0 0 0 0;\n",
              "      width: 32px;\n",
              "    }\n",
              "\n",
              "    .colab-df-convert:hover {\n",
              "      background-color: #E2EBFA;\n",
              "      box-shadow: 0px 1px 2px rgba(60, 64, 67, 0.3), 0px 1px 3px 1px rgba(60, 64, 67, 0.15);\n",
              "      fill: #174EA6;\n",
              "    }\n",
              "\n",
              "    .colab-df-buttons div {\n",
              "      margin-bottom: 4px;\n",
              "    }\n",
              "\n",
              "    [theme=dark] .colab-df-convert {\n",
              "      background-color: #3B4455;\n",
              "      fill: #D2E3FC;\n",
              "    }\n",
              "\n",
              "    [theme=dark] .colab-df-convert:hover {\n",
              "      background-color: #434B5C;\n",
              "      box-shadow: 0px 1px 3px 1px rgba(0, 0, 0, 0.15);\n",
              "      filter: drop-shadow(0px 1px 2px rgba(0, 0, 0, 0.3));\n",
              "      fill: #FFFFFF;\n",
              "    }\n",
              "  </style>\n",
              "\n",
              "    <script>\n",
              "      const buttonEl =\n",
              "        document.querySelector('#df-ca10b087-f268-4d09-a028-95d2848f58af button.colab-df-convert');\n",
              "      buttonEl.style.display =\n",
              "        google.colab.kernel.accessAllowed ? 'block' : 'none';\n",
              "\n",
              "      async function convertToInteractive(key) {\n",
              "        const element = document.querySelector('#df-ca10b087-f268-4d09-a028-95d2848f58af');\n",
              "        const dataTable =\n",
              "          await google.colab.kernel.invokeFunction('convertToInteractive',\n",
              "                                                    [key], {});\n",
              "        if (!dataTable) return;\n",
              "\n",
              "        const docLinkHtml = 'Like what you see? Visit the ' +\n",
              "          '<a target=\"_blank\" href=https://colab.research.google.com/notebooks/data_table.ipynb>data table notebook</a>'\n",
              "          + ' to learn more about interactive tables.';\n",
              "        element.innerHTML = '';\n",
              "        dataTable['output_type'] = 'display_data';\n",
              "        await google.colab.output.renderOutput(dataTable, element);\n",
              "        const docLink = document.createElement('div');\n",
              "        docLink.innerHTML = docLinkHtml;\n",
              "        element.appendChild(docLink);\n",
              "      }\n",
              "    </script>\n",
              "  </div>\n",
              "\n",
              "\n",
              "<div id=\"df-dc7c6b18-67b3-4980-8046-7072bc290e75\">\n",
              "  <button class=\"colab-df-quickchart\" onclick=\"quickchart('df-dc7c6b18-67b3-4980-8046-7072bc290e75')\"\n",
              "            title=\"Suggest charts\"\n",
              "            style=\"display:none;\">\n",
              "\n",
              "<svg xmlns=\"http://www.w3.org/2000/svg\" height=\"24px\"viewBox=\"0 0 24 24\"\n",
              "     width=\"24px\">\n",
              "    <g>\n",
              "        <path d=\"M19 3H5c-1.1 0-2 .9-2 2v14c0 1.1.9 2 2 2h14c1.1 0 2-.9 2-2V5c0-1.1-.9-2-2-2zM9 17H7v-7h2v7zm4 0h-2V7h2v10zm4 0h-2v-4h2v4z\"/>\n",
              "    </g>\n",
              "</svg>\n",
              "  </button>\n",
              "\n",
              "<style>\n",
              "  .colab-df-quickchart {\n",
              "      --bg-color: #E8F0FE;\n",
              "      --fill-color: #1967D2;\n",
              "      --hover-bg-color: #E2EBFA;\n",
              "      --hover-fill-color: #174EA6;\n",
              "      --disabled-fill-color: #AAA;\n",
              "      --disabled-bg-color: #DDD;\n",
              "  }\n",
              "\n",
              "  [theme=dark] .colab-df-quickchart {\n",
              "      --bg-color: #3B4455;\n",
              "      --fill-color: #D2E3FC;\n",
              "      --hover-bg-color: #434B5C;\n",
              "      --hover-fill-color: #FFFFFF;\n",
              "      --disabled-bg-color: #3B4455;\n",
              "      --disabled-fill-color: #666;\n",
              "  }\n",
              "\n",
              "  .colab-df-quickchart {\n",
              "    background-color: var(--bg-color);\n",
              "    border: none;\n",
              "    border-radius: 50%;\n",
              "    cursor: pointer;\n",
              "    display: none;\n",
              "    fill: var(--fill-color);\n",
              "    height: 32px;\n",
              "    padding: 0;\n",
              "    width: 32px;\n",
              "  }\n",
              "\n",
              "  .colab-df-quickchart:hover {\n",
              "    background-color: var(--hover-bg-color);\n",
              "    box-shadow: 0 1px 2px rgba(60, 64, 67, 0.3), 0 1px 3px 1px rgba(60, 64, 67, 0.15);\n",
              "    fill: var(--button-hover-fill-color);\n",
              "  }\n",
              "\n",
              "  .colab-df-quickchart-complete:disabled,\n",
              "  .colab-df-quickchart-complete:disabled:hover {\n",
              "    background-color: var(--disabled-bg-color);\n",
              "    fill: var(--disabled-fill-color);\n",
              "    box-shadow: none;\n",
              "  }\n",
              "\n",
              "  .colab-df-spinner {\n",
              "    border: 2px solid var(--fill-color);\n",
              "    border-color: transparent;\n",
              "    border-bottom-color: var(--fill-color);\n",
              "    animation:\n",
              "      spin 1s steps(1) infinite;\n",
              "  }\n",
              "\n",
              "  @keyframes spin {\n",
              "    0% {\n",
              "      border-color: transparent;\n",
              "      border-bottom-color: var(--fill-color);\n",
              "      border-left-color: var(--fill-color);\n",
              "    }\n",
              "    20% {\n",
              "      border-color: transparent;\n",
              "      border-left-color: var(--fill-color);\n",
              "      border-top-color: var(--fill-color);\n",
              "    }\n",
              "    30% {\n",
              "      border-color: transparent;\n",
              "      border-left-color: var(--fill-color);\n",
              "      border-top-color: var(--fill-color);\n",
              "      border-right-color: var(--fill-color);\n",
              "    }\n",
              "    40% {\n",
              "      border-color: transparent;\n",
              "      border-right-color: var(--fill-color);\n",
              "      border-top-color: var(--fill-color);\n",
              "    }\n",
              "    60% {\n",
              "      border-color: transparent;\n",
              "      border-right-color: var(--fill-color);\n",
              "    }\n",
              "    80% {\n",
              "      border-color: transparent;\n",
              "      border-right-color: var(--fill-color);\n",
              "      border-bottom-color: var(--fill-color);\n",
              "    }\n",
              "    90% {\n",
              "      border-color: transparent;\n",
              "      border-bottom-color: var(--fill-color);\n",
              "    }\n",
              "  }\n",
              "</style>\n",
              "\n",
              "  <script>\n",
              "    async function quickchart(key) {\n",
              "      const quickchartButtonEl =\n",
              "        document.querySelector('#' + key + ' button');\n",
              "      quickchartButtonEl.disabled = true;  // To prevent multiple clicks.\n",
              "      quickchartButtonEl.classList.add('colab-df-spinner');\n",
              "      try {\n",
              "        const charts = await google.colab.kernel.invokeFunction(\n",
              "            'suggestCharts', [key], {});\n",
              "      } catch (error) {\n",
              "        console.error('Error during call to suggestCharts:', error);\n",
              "      }\n",
              "      quickchartButtonEl.classList.remove('colab-df-spinner');\n",
              "      quickchartButtonEl.classList.add('colab-df-quickchart-complete');\n",
              "    }\n",
              "    (() => {\n",
              "      let quickchartButtonEl =\n",
              "        document.querySelector('#df-dc7c6b18-67b3-4980-8046-7072bc290e75 button');\n",
              "      quickchartButtonEl.style.display =\n",
              "        google.colab.kernel.accessAllowed ? 'block' : 'none';\n",
              "    })();\n",
              "  </script>\n",
              "</div>\n",
              "    </div>\n",
              "  </div>\n"
            ]
          },
          "metadata": {},
          "execution_count": 32
        }
      ],
      "source": [
        "pred_df.sample(15)"
      ]
    },
    {
      "cell_type": "code",
      "source": [
        "preds_text=np.array(preds_text)\n",
        "preds_text\n"
      ],
      "metadata": {
        "colab": {
          "base_uri": "https://localhost:8080/"
        },
        "id": "eHF7suOA7WZv",
        "outputId": "be2e7663-3e38-4d89-d4f3-e48e34a82d37"
      },
      "execution_count": 44,
      "outputs": [
        {
          "output_type": "execute_result",
          "data": {
            "text/plain": [
              "array(['i was a     ', 'are       ', 'im a      ', ..., 'he was a     ',\n",
              "       'did you      ', 'i want you     '], dtype='<U19')"
            ]
          },
          "metadata": {},
          "execution_count": 44
        }
      ]
    },
    {
      "cell_type": "code",
      "source": [
        "test[:,0]"
      ],
      "metadata": {
        "colab": {
          "base_uri": "https://localhost:8080/"
        },
        "id": "p4PVuy-t9Z-s",
        "outputId": "29dc1ddc-39db-4d91-84fe-edca7cfd0773"
      },
      "execution_count": 45,
      "outputs": [
        {
          "output_type": "execute_result",
          "data": {
            "text/plain": [
              "array(['i was in the gym', 'forget it', 'im a pisces', ...,\n",
              "       'he is my uncle', 'when will you go', 'i look like tom'],\n",
              "      dtype='<U100')"
            ]
          },
          "metadata": {},
          "execution_count": 45
        }
      ]
    },
    {
      "cell_type": "code",
      "execution_count": 48,
      "metadata": {
        "colab": {
          "base_uri": "https://localhost:8080/"
        },
        "id": "psbEQt_8Y2hU",
        "outputId": "d66974d2-5985-435b-f5fc-3691ef1d7754"
      },
      "outputs": [
        {
          "output_type": "stream",
          "name": "stdout",
          "text": [
            "BLEU Score: 0\n"
          ]
        }
      ],
      "source": [
        "from nltk.translate.bleu_score import sentence_bleu\n",
        "\n",
        "\n",
        "# Calculate BLEU score for unigrams (individual words)\n",
        "bleu_score = sentence_bleu([test[:,0]],preds_text, weights=(1, 0, 0, 0))\n",
        "\n",
        "# Print the BLEU score\n",
        "print(f\"BLEU Score: {bleu_score}\")\n",
        ""
      ]
    },
    {
      "cell_type": "code",
      "source": [],
      "metadata": {
        "id": "tosPS0dd9guQ"
      },
      "execution_count": null,
      "outputs": []
    }
  ],
  "metadata": {
    "colab": {
      "provenance": [],
      "include_colab_link": true
    },
    "kernelspec": {
      "display_name": "Python 3",
      "name": "python3"
    },
    "language_info": {
      "name": "python"
    }
  },
  "nbformat": 4,
  "nbformat_minor": 0
}